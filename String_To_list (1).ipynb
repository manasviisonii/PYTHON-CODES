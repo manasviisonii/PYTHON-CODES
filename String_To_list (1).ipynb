{
  "nbformat": 4,
  "nbformat_minor": 0,
  "metadata": {
    "colab": {
      "provenance": [],
      "authorship_tag": "ABX9TyNqTdriNk5B2UKqSqZTaEIp",
      "include_colab_link": true
    },
    "kernelspec": {
      "name": "python3",
      "display_name": "Python 3"
    },
    "language_info": {
      "name": "python"
    }
  },
  "cells": [
    {
      "cell_type": "markdown",
      "metadata": {
        "id": "view-in-github",
        "colab_type": "text"
      },
      "source": [
        "<a href=\"https://colab.research.google.com/github/PIYUSH9760/python_classes/blob/main/String_To_list.ipynb\" target=\"_parent\"><img src=\"https://colab.research.google.com/assets/colab-badge.svg\" alt=\"Open In Colab\"/></a>"
      ]
    },
    {
      "cell_type": "code",
      "execution_count": 15,
      "metadata": {
        "colab": {
          "base_uri": "https://localhost:8080/"
        },
        "id": "Qu7rSsRzaJ8S",
        "outputId": "4489e46a-75fd-4cdf-f2c6-b6679b4bc177"
      },
      "outputs": [
        {
          "output_type": "stream",
          "name": "stdout",
          "text": [
            "['W', 'e', 'l', 'c', 'o', 'm', 'e', ' ', 't', 'o', ' ', 't', 'h', 'e', ' ', 'W', 'o', 'r', 'l', 'd', ' ', 'o', 'f', ' ', 'P', 'y', 't', 'h', 'o', 'n', '!']\n"
          ]
        }
      ],
      "source": [
        "\n",
        "#2. Extract letters from a string. The string is \"Welcome to the world of python\" and put them in a list.\n",
        "str_2=\"Welcome to the World of Python!\"\n",
        "list_3=[i for i in str_2]\n",
        "print(list_3)"
      ]
    }
  ]
}