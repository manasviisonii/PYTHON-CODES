{
  "nbformat": 4,
  "nbformat_minor": 0,
  "metadata": {
    "colab": {
      "provenance": [],
      "authorship_tag": "ABX9TyNpndVnpJ+Q9LMrViR4hGXM",
      "include_colab_link": true
    },
    "kernelspec": {
      "name": "python3",
      "display_name": "Python 3"
    },
    "language_info": {
      "name": "python"
    }
  },
  "cells": [
    {
      "cell_type": "markdown",
      "metadata": {
        "id": "view-in-github",
        "colab_type": "text"
      },
      "source": [
        "<a href=\"https://colab.research.google.com/github/PIYUSH9760/python_classes/blob/main/Calculator.ipynb\" target=\"_parent\"><img src=\"https://colab.research.google.com/assets/colab-badge.svg\" alt=\"Open In Colab\"/></a>"
      ]
    },
    {
      "cell_type": "code",
      "execution_count": 1,
      "metadata": {
        "colab": {
          "base_uri": "https://localhost:8080/"
        },
        "id": "Qu7rSsRzaJ8S",
        "outputId": "21229493-9eb9-4b41-bd3b-e443c25a8750"
      },
      "outputs": [
        {
          "output_type": "stream",
          "name": "stdout",
          "text": [
            "Enter first Number:5\n",
            "Enter second Number:86\n",
            "Addition is: 91\n",
            "Subtraction is: -81\n",
            "Multiplication is: 430\n",
            "Division is: 0.05813953488372093\n"
          ]
        }
      ],
      "source": [
        "def calculator(num1,num2):\n",
        "  print(\"Addition is:\",num1+num2)\n",
        "  print(\"Subtraction is:\",num1-num2)\n",
        "  print(\"Multiplication is:\",num1*num2)\n",
        "  print(\"Division is:\",num1/num2)\n",
        "number1=int(input(\"Enter first Number:\"))\n",
        "number2=int(input(\"Enter second Number:\"))\n",
        "calculator(number1,number2)"
      ]
    }
  ]
}