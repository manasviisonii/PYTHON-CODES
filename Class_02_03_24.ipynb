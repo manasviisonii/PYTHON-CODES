{
  "nbformat": 4,
  "nbformat_minor": 0,
  "metadata": {
    "colab": {
      "provenance": [],
      "include_colab_link": true
    },
    "kernelspec": {
      "name": "python3",
      "display_name": "Python 3"
    },
    "language_info": {
      "name": "python"
    }
  },
  "cells": [
    {
      "cell_type": "markdown",
      "metadata": {
        "id": "view-in-github",
        "colab_type": "text"
      },
      "source": [
        "<a href=\"https://colab.research.google.com/github/PIYUSH9760/python_classes/blob/main/Class_02_03_24.ipynb\" target=\"_parent\"><img src=\"https://colab.research.google.com/assets/colab-badge.svg\" alt=\"Open In Colab\"/></a>"
      ]
    },
    {
      "cell_type": "code",
      "source": [
        "#Errors and Exception Handling"
      ],
      "metadata": {
        "id": "Kn4tcndEfmC3"
      },
      "execution_count": null,
      "outputs": []
    },
    {
      "cell_type": "code",
      "execution_count": null,
      "metadata": {
        "id": "GXbC2i61Sddl"
      },
      "outputs": [],
      "source": [
        "import time\n",
        "for i in range(10):\n",
        "  time.sleep(1)"
      ]
    },
    {
      "cell_type": "code",
      "source": [
        "try:\n",
        "    a=int(input(\"Enter your age:\"))\n",
        "    print(a)\n",
        "    c=a/0\n",
        "except(ValueError):\n",
        "  print(\"Age cannot be a string!\")\n",
        "except(ZeroDivisionError):\n",
        "  print(\"Division by zero is not possible.\")\n",
        "finally:\n",
        "    # To free up resources used by the above code.\n",
        "    pass"
      ],
      "metadata": {
        "colab": {
          "base_uri": "https://localhost:8080/"
        },
        "id": "OPWAVtieSznU",
        "outputId": "8307cce6-ca87-405c-9b22-9d22c6a936ee"
      },
      "execution_count": null,
      "outputs": [
        {
          "output_type": "stream",
          "name": "stdout",
          "text": [
            "Enter your age:abc\n",
            "Age cannot be a string!\n"
          ]
        }
      ]
    },
    {
      "cell_type": "code",
      "source": [
        "#Take any program and introduce syntax errors and put those errors in exception"
      ],
      "metadata": {
        "id": "nsbWONVoZH7Y"
      },
      "execution_count": null,
      "outputs": []
    },
    {
      "cell_type": "code",
      "source": [
        "try:\n",
        "  a=int(input(\"Enter a number:\"));\n",
        "  bint(input(\"Enter another number:\"))\n",
        "  prit(a+b)\n",
        "except(NameError):\n",
        "  print(\"Sorry for the Syntax Errors!\")\n",
        "except(SyntaxError):\n",
        "  print(\"There is a Syntax error in the code.\")"
      ],
      "metadata": {
        "colab": {
          "base_uri": "https://localhost:8080/"
        },
        "id": "dM7rZ9uIXekr",
        "outputId": "79b9cbea-aac1-4efb-e162-647ae4536d69"
      },
      "execution_count": null,
      "outputs": [
        {
          "output_type": "stream",
          "name": "stdout",
          "text": [
            "Enter a number:10\n",
            "Sorry for the Syntax Errors!\n"
          ]
        }
      ]
    },
    {
      "cell_type": "code",
      "source": [
        "def sum_1():\n",
        "  try:\n",
        "    a=input(\"Enter 1st number:\")\n",
        "    b=int(input(\"Enter 2nd number:\"))\n",
        "    sum=int(a)+b\n",
        "    print(int(a) + b)\n",
        "  except(TypeError):\n",
        "    print(\"Sorry for the type.\")\n",
        "\n",
        "sum_1()"
      ],
      "metadata": {
        "colab": {
          "base_uri": "https://localhost:8080/"
        },
        "id": "DITOMlPvaTVa",
        "outputId": "23566853-d66a-4524-9485-5086c9114e1d"
      },
      "execution_count": null,
      "outputs": [
        {
          "output_type": "stream",
          "name": "stdout",
          "text": [
            "Enter 1st number:10\n",
            "Enter 2nd number:20\n",
            "Sorry for the type.\n"
          ]
        }
      ]
    }
  ]
}