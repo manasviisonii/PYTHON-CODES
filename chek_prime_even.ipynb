{
  "nbformat": 4,
  "nbformat_minor": 0,
  "metadata": {
    "colab": {
      "provenance": [],
      "authorship_tag": "ABX9TyMBV/RYS1zUOJjg2pu9/1VP",
      "include_colab_link": true
    },
    "kernelspec": {
      "name": "python3",
      "display_name": "Python 3"
    },
    "language_info": {
      "name": "python"
    }
  },
  "cells": [
    {
      "cell_type": "markdown",
      "metadata": {
        "id": "view-in-github",
        "colab_type": "text"
      },
      "source": [
        "<a href=\"https://colab.research.google.com/github/PIYUSH9760/python_classes/blob/main/chek_prime_even.ipynb\" target=\"_parent\"><img src=\"https://colab.research.google.com/assets/colab-badge.svg\" alt=\"Open In Colab\"/></a>"
      ]
    },
    {
      "cell_type": "code",
      "execution_count": 12,
      "metadata": {
        "colab": {
          "base_uri": "https://localhost:8080/"
        },
        "id": "w4QAnrgMJAT8",
        "outputId": "5c02adf4-288d-48ad-c853-a022509f2acf"
      },
      "outputs": [
        {
          "output_type": "stream",
          "name": "stdout",
          "text": [
            "enter any number of your choice35\n",
            "35 is not prime\n",
            "35 is not even\n"
          ]
        }
      ],
      "source": [
        "#WAP to check if a number is prime and even\n",
        "a=int(input(\"enter any number of your choice\"))\n",
        "def prime(a):\n",
        "  count=0\n",
        "  for i in range(2,a):\n",
        "    if a%i==0:\n",
        "      count+=1\n",
        "  if count==0:\n",
        "    print(a,\"is prime\")\n",
        "  else:\n",
        "    print(a,\"is not prime\")\n",
        "  if a%2==0:\n",
        "    print(\"a is also even \")\n",
        "  else:\n",
        "    print(a,\"is not even\")\n",
        "\n",
        "prime(a)\n",
        "\n",
        "\n"
      ]
    }
  ]
}