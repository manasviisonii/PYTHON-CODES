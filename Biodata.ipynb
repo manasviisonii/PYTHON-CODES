{
  "nbformat": 4,
  "nbformat_minor": 0,
  "metadata": {
    "colab": {
      "provenance": [],
      "authorship_tag": "ABX9TyM4H0Y8f/UDJUy0sgG/7LmU",
      "include_colab_link": true
    },
    "kernelspec": {
      "name": "python3",
      "display_name": "Python 3"
    },
    "language_info": {
      "name": "python"
    }
  },
  "cells": [
    {
      "cell_type": "markdown",
      "metadata": {
        "id": "view-in-github",
        "colab_type": "text"
      },
      "source": [
        "<a href=\"https://colab.research.google.com/github/PIYUSH9760/python_classes/blob/main/Biodata.ipynb\" target=\"_parent\"><img src=\"https://colab.research.google.com/assets/colab-badge.svg\" alt=\"Open In Colab\"/></a>"
      ]
    },
    {
      "cell_type": "code",
      "execution_count": null,
      "metadata": {
        "id": "Qu7rSsRzaJ8S"
      },
      "outputs": [],
      "source": [
        "print(\"Creating a biodata of yourself!\")\n",
        "name=input(\"Enter your name:\")\n",
        "sapID=input(\"Enter your sap ID:\")\n",
        "university=input(\"Enter your university name:\")\n",
        "address=input(\"Enter your university address:\")\n",
        "age=input(\"Enter your age:\")\n",
        "pincode=input(\"Enter pincode:\")\n",
        "print(\"Your name is:\"+name)\n",
        "print(\"Your SAP ID is:\"+sapID)\n",
        "print(\"Your university is:\"+university)\n",
        "print(\"Your address is:\"+address+\",\"+pincode)\n",
        "print(\"Your age is: \"+age)"
      ]
    },
    {
      "cell_type": "code",
      "source": [],
      "metadata": {
        "id": "buGrANO5kLSW"
      },
      "execution_count": null,
      "outputs": []
    }
  ]
}